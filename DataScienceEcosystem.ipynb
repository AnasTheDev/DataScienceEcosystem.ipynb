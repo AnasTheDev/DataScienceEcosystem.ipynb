{
 "cells": [
  {
   "cell_type": "markdown",
   "id": "ad6d97af",
   "metadata": {},
   "source": [
    "## Data Science Tools and Ecosystem"
   ]
  },
  {
   "cell_type": "markdown",
   "id": "9fe8104f",
   "metadata": {},
   "source": [
    "In this notebook, we will be summarizing Data Science Tools and Ecosystem "
   ]
  },
  {
   "cell_type": "markdown",
   "id": "dfed685e",
   "metadata": {},
   "source": [
    "**Objectives: \n",
    "\n",
    "A list of popular languages for Data Science\n",
    "\n",
    "- Python\n",
    "\n",
    "- R\n",
    "\n",
    "- C++\n",
    "\n",
    "- Scala\n",
    "\n"
   ]
  },
  {
   "cell_type": "markdown",
   "id": "7db54603",
   "metadata": {},
   "source": [
    "Here are some more languages that Data Scientists use:\n",
    "\n",
    "1. JacaScript\n",
    "\n",
    "2. VisualBasic\n",
    "\n",
    "3. PHP\n",
    "\n",
    "4. Julia\n",
    "\n",
    "    "
   ]
  },
  {
   "cell_type": "markdown",
   "id": "ae90873c",
   "metadata": {},
   "source": [
    "Here are some of the commonly used libraries used by Data Scientists:\n",
    "    \n",
    "1. ggplot\n",
    "\n",
    "2. Pandas\n",
    "\n",
    "3. NumPy\n",
    "\n",
    "4. SciPy"
   ]
  },
  {
   "cell_type": "markdown",
   "id": "a44f4ae4",
   "metadata": {},
   "source": [
    "| Data Science Tools |\n",
    "------------------------\n",
    "1. Jupyter Notebook\n",
    "2. Watson Studio\n",
    "3. Rstudio"
   ]
  },
  {
   "cell_type": "markdown",
   "id": "4f1490eb",
   "metadata": {},
   "source": [
    "### Below are a few examples of evaluating arithmetic expressions in Python"
   ]
  },
  {
   "cell_type": "markdown",
   "id": "520cd09d",
   "metadata": {},
   "source": [
    "This a simple arithmetic expression to mutiply then add integers"
   ]
  },
  {
   "cell_type": "code",
   "execution_count": 1,
   "id": "4c2e028c",
   "metadata": {
    "scrolled": true
   },
   "outputs": [
    {
     "data": {
      "text/plain": [
       "17"
      ]
     },
     "execution_count": 1,
     "metadata": {},
     "output_type": "execute_result"
    }
   ],
   "source": [
    "(3*4)+5"
   ]
  },
  {
   "cell_type": "markdown",
   "id": "350973bb",
   "metadata": {},
   "source": [
    "This will convert 200 minutes to hours by diving by 60"
   ]
  },
  {
   "cell_type": "code",
   "execution_count": 2,
   "id": "7aebe538",
   "metadata": {
    "scrolled": true
   },
   "outputs": [
    {
     "data": {
      "text/plain": [
       "3.3333333333333335"
      ]
     },
     "execution_count": 2,
     "metadata": {},
     "output_type": "execute_result"
    }
   ],
   "source": [
    "(200/60)"
   ]
  },
  {
   "cell_type": "markdown",
   "id": "9ac9bba8",
   "metadata": {},
   "source": [
    "### Author \n",
    "\n",
    "Anas Haj Mahmoud"
   ]
  }
 ],
 "metadata": {
  "celltoolbar": "Attachments",
  "kernelspec": {
   "display_name": "Python 3 (ipykernel)",
   "language": "python",
   "name": "python3"
  },
  "language_info": {
   "codemirror_mode": {
    "name": "ipython",
    "version": 3
   },
   "file_extension": ".py",
   "mimetype": "text/x-python",
   "name": "python",
   "nbconvert_exporter": "python",
   "pygments_lexer": "ipython3",
   "version": "3.11.5"
  }
 },
 "nbformat": 4,
 "nbformat_minor": 5
}
